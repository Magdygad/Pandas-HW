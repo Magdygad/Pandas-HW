{
 "cells": [
  {
   "cell_type": "code",
   "execution_count": 31,
   "metadata": {
    "collapsed": true
   },
   "outputs": [],
   "source": [
    "#Dependencies\n",
    "import pandas as pd\n",
    "import numpy as np\n",
    "import json\n",
    "import os\n",
    "\n"
   ]
  },
  {
   "cell_type": "code",
   "execution_count": 33,
   "metadata": {},
   "outputs": [
    {
     "data": {
      "text/html": [
       "<div>\n",
       "<style>\n",
       "    .dataframe thead tr:only-child th {\n",
       "        text-align: right;\n",
       "    }\n",
       "\n",
       "    .dataframe thead th {\n",
       "        text-align: left;\n",
       "    }\n",
       "\n",
       "    .dataframe tbody tr th {\n",
       "        vertical-align: top;\n",
       "    }\n",
       "</style>\n",
       "<table border=\"1\" class=\"dataframe\">\n",
       "  <thead>\n",
       "    <tr style=\"text-align: right;\">\n",
       "      <th></th>\n",
       "      <th>Age</th>\n",
       "      <th>Gender</th>\n",
       "      <th>Item ID</th>\n",
       "      <th>Item Name</th>\n",
       "      <th>Price</th>\n",
       "      <th>SN</th>\n",
       "    </tr>\n",
       "  </thead>\n",
       "  <tbody>\n",
       "    <tr>\n",
       "      <th>0</th>\n",
       "      <td>38</td>\n",
       "      <td>Male</td>\n",
       "      <td>165</td>\n",
       "      <td>Bone Crushing Silver Skewer</td>\n",
       "      <td>3.37</td>\n",
       "      <td>Aelalis34</td>\n",
       "    </tr>\n",
       "    <tr>\n",
       "      <th>1</th>\n",
       "      <td>21</td>\n",
       "      <td>Male</td>\n",
       "      <td>119</td>\n",
       "      <td>Stormbringer, Dark Blade of Ending Misery</td>\n",
       "      <td>2.32</td>\n",
       "      <td>Eolo46</td>\n",
       "    </tr>\n",
       "    <tr>\n",
       "      <th>2</th>\n",
       "      <td>34</td>\n",
       "      <td>Male</td>\n",
       "      <td>174</td>\n",
       "      <td>Primitive Blade</td>\n",
       "      <td>2.46</td>\n",
       "      <td>Assastnya25</td>\n",
       "    </tr>\n",
       "    <tr>\n",
       "      <th>3</th>\n",
       "      <td>21</td>\n",
       "      <td>Male</td>\n",
       "      <td>92</td>\n",
       "      <td>Final Critic</td>\n",
       "      <td>1.36</td>\n",
       "      <td>Pheusrical25</td>\n",
       "    </tr>\n",
       "    <tr>\n",
       "      <th>4</th>\n",
       "      <td>23</td>\n",
       "      <td>Male</td>\n",
       "      <td>63</td>\n",
       "      <td>Stormfury Mace</td>\n",
       "      <td>1.27</td>\n",
       "      <td>Aela59</td>\n",
       "    </tr>\n",
       "  </tbody>\n",
       "</table>\n",
       "</div>"
      ],
      "text/plain": [
       "   Age Gender  Item ID                                  Item Name  Price  \\\n",
       "0   38   Male      165                Bone Crushing Silver Skewer   3.37   \n",
       "1   21   Male      119  Stormbringer, Dark Blade of Ending Misery   2.32   \n",
       "2   34   Male      174                            Primitive Blade   2.46   \n",
       "3   21   Male       92                               Final Critic   1.36   \n",
       "4   23   Male       63                             Stormfury Mace   1.27   \n",
       "\n",
       "             SN  \n",
       "0     Aelalis34  \n",
       "1        Eolo46  \n",
       "2   Assastnya25  \n",
       "3  Pheusrical25  \n",
       "4        Aela59  "
      ]
     },
     "execution_count": 33,
     "metadata": {},
     "output_type": "execute_result"
    }
   ],
   "source": [
    "#import data\n",
    "json_path = \"purchase_data.json\"\n",
    "p_data_df = pd.read_json(json_path)\n",
    "p_data_df.head()\n",
    "\n"
   ]
  },
  {
   "cell_type": "code",
   "execution_count": 34,
   "metadata": {},
   "outputs": [],
   "source": [
    "#p_data_df.describe()\n",
    "player_count=p_data_df[\"SN\"].count()\n"
   ]
  },
  {
   "cell_type": "code",
   "execution_count": 22,
   "metadata": {},
   "outputs": [
    {
     "data": {
      "text/plain": [
       "179"
      ]
     },
     "execution_count": 22,
     "metadata": {},
     "output_type": "execute_result"
    }
   ],
   "source": [
    "#Purchasing Analysis (Total)\n",
    "#Number of Unique items\n",
    "unique_items= len(p_data_df[\"Item Name\"].unique())\n",
    "unique_items\n"
   ]
  },
  {
   "cell_type": "code",
   "execution_count": 35,
   "metadata": {},
   "outputs": [
    {
     "name": "stdout",
     "output_type": "stream",
     "text": [
      "male_pc:633\n",
      "avg_pur_count_male:2.9505213270142154\n",
      "total_Pur_value:1867.6799999999985\n",
      "male_NP:0.0\n"
     ]
    }
   ],
   "source": [
    "#Average Purchase price\n",
    "avg_purchase=p_data_df['Price'].mean()\n",
    "avg_purchase#purchasing Analysis\n",
    "#by Gender\n",
    "#Male\n",
    "male_df=p_data_df.loc[p_data_df[\"Gender\"]==\"Male\"]\n",
    "male_df.head()\n",
    "male_pc=male_df[\"Item Name\"].count()\n",
    "print(f\"male_pc:{male_pc}\")\n",
    "avg_pur_count_male=male_df[\"Price\"].mean()\n",
    "print(f\"avg_pur_count_male:{avg_pur_count_male}\")\n",
    "total_Pur_value=male_df[\"Price\"].sum()\n",
    "print(f\"total_Pur_value:{total_Pur_value}\")\n",
    "male_NP= np.std(avg_pur_count_male)\n",
    "print(f\"male_NP:{male_NP}\")\n"
   ]
  },
  {
   "cell_type": "code",
   "execution_count": 24,
   "metadata": {},
   "outputs": [
    {
     "data": {
      "text/plain": [
       "780"
      ]
     },
     "execution_count": 24,
     "metadata": {},
     "output_type": "execute_result"
    }
   ],
   "source": [
    "#Total# of Purchases\n",
    "total_purchases=p_data_df['Item Name'].count()\n",
    "total_purchases\n"
   ]
  },
  {
   "cell_type": "code",
   "execution_count": 25,
   "metadata": {},
   "outputs": [
    {
     "data": {
      "text/plain": [
       "2286.3299999999963"
      ]
     },
     "execution_count": 25,
     "metadata": {},
     "output_type": "execute_result"
    }
   ],
   "source": [
    "#Total Revenue\n",
    "total_revenue=p_data_df['Price'].sum()\n",
    "total_revenue\n"
   ]
  },
  {
   "cell_type": "code",
   "execution_count": 26,
   "metadata": {},
   "outputs": [
    {
     "data": {
      "text/plain": [
       "633"
      ]
     },
     "execution_count": 26,
     "metadata": {},
     "output_type": "execute_result"
    }
   ],
   "source": [
    "#Gender Demographics\n",
    "#Count of Male players\n",
    "male=p_data_df['Gender'].value_counts()['Male']\n",
    "male\n"
   ]
  },
  {
   "cell_type": "code",
   "execution_count": 27,
   "metadata": {},
   "outputs": [
    {
     "data": {
      "text/plain": [
       "81.15384615384616"
      ]
     },
     "execution_count": 27,
     "metadata": {},
     "output_type": "execute_result"
    }
   ],
   "source": [
    "#percentage of Male players\n",
    "male_percentage=(male/player_count)*100\n",
    "male_percentage\n"
   ]
  },
  {
   "cell_type": "code",
   "execution_count": 28,
   "metadata": {},
   "outputs": [
    {
     "data": {
      "text/plain": [
       "136"
      ]
     },
     "execution_count": 28,
     "metadata": {},
     "output_type": "execute_result"
    }
   ],
   "source": [
    "#Gender Demographics\n",
    "#Count of Female players\n",
    "Female=p_data_df['Gender'].value_counts()['Female']\n",
    "Female\n"
   ]
  },
  {
   "cell_type": "code",
   "execution_count": 29,
   "metadata": {},
   "outputs": [
    {
     "data": {
      "text/plain": [
       "17.435897435897434"
      ]
     },
     "execution_count": 29,
     "metadata": {},
     "output_type": "execute_result"
    }
   ],
   "source": [
    "#percentage of Female players\n",
    "Female_percentage=(Female/player_count)*100\n",
    "Female_percentage\n"
   ]
  },
  {
   "cell_type": "code",
   "execution_count": 16,
   "metadata": {},
   "outputs": [
    {
     "name": "stdout",
     "output_type": "stream",
     "text": [
      "Age Demographics\n",
      "<10       28\n",
      "10-14     35\n",
      "15-19    133\n",
      "20-24    336\n",
      "25-29    125\n",
      "30-34     64\n",
      "35-39     42\n",
      "40-44     16\n",
      "45<        1\n",
      "Name: Item Name, dtype: int64\n",
      "Age Demographics\n",
      "<10      2.980714\n",
      "10-14    2.770000\n",
      "15-19    2.905414\n",
      "20-24    2.913006\n",
      "25-29    2.962640\n",
      "30-34    3.082031\n",
      "35-39    2.842857\n",
      "40-44    3.189375\n",
      "45<      2.720000\n",
      "Name: Price, dtype: float64\n",
      "Age Demographics\n",
      "<10       83.46\n",
      "10-14     96.95\n",
      "15-19    386.42\n",
      "20-24    978.77\n",
      "25-29    370.33\n",
      "30-34    197.25\n",
      "35-39    119.40\n",
      "40-44     51.03\n",
      "45<        2.72\n",
      "Name: Price, dtype: float64\n"
     ]
    }
   ],
   "source": [
    "#Age demographics\n",
    "#Create the bins in which data will be held\n",
    "bins= [0, 25, 50, 75, 100]\n",
    "#create names of the four bins\n",
    "age_bin_value = [0, 9, 14, 19, 24, 29, 34, 39, 44, 100]\n",
    "age_bin_names = ['<10', '10-14', '15-19', '20-24', '25-29', '30-34', '35-39', '40-44', '45<']\n",
    "p_data_df[\"Age Demographics\"]= pd.cut(p_data_df[\"Age\"], age_bin_value, labels=age_bin_names)\n",
    "demographic_group = p_data_df.groupby(\"Age Demographics\")\n",
    "print(demographic_group[\"Item Name\"].count())\n",
    "print((demographic_group[\"Price\"].mean()))\n",
    "print((demographic_group[\"Price\"].sum()))\n"
   ]
  },
  {
   "cell_type": "code",
   "execution_count": 17,
   "metadata": {},
   "outputs": [
    {
     "data": {
      "text/plain": [
       "Male                     633\n",
       "Female                   136\n",
       "Other / Non-Disclosed     11\n",
       "Name: Gender, dtype: int64"
      ]
     },
     "execution_count": 17,
     "metadata": {},
     "output_type": "execute_result"
    }
   ],
   "source": [
    "#Gender Demographics\n",
    "#Count of Other/Non-disclosed players\n",
    "Non_disclosed=p_data_df['Gender'].value_counts()\n",
    "Non_disclosed\n"
   ]
  },
  {
   "cell_type": "code",
   "execution_count": 18,
   "metadata": {},
   "outputs": [
    {
     "data": {
      "text/plain": [
       "11"
      ]
     },
     "execution_count": 18,
     "metadata": {},
     "output_type": "execute_result"
    }
   ],
   "source": [
    "other_ND= player_count- male-Female\n",
    "other_ND\n",
    "\n"
   ]
  },
  {
   "cell_type": "code",
   "execution_count": 19,
   "metadata": {},
   "outputs": [
    {
     "data": {
      "text/plain": [
       "1.4102564102564104"
      ]
     },
     "execution_count": 19,
     "metadata": {},
     "output_type": "execute_result"
    }
   ],
   "source": [
    "other_ND_Percentage=(other_ND/player_count)*100\n",
    "other_ND_Percentage\n"
   ]
  },
  {
   "cell_type": "code",
   "execution_count": 30,
   "metadata": {},
   "outputs": [
    {
     "name": "stdout",
     "output_type": "stream",
     "text": [
      "male_pc:633\n",
      "avg_pur_count_male:2.9505213270142154\n",
      "total_Pur_value:1867.6799999999985\n",
      "male_NP:0.0\n"
     ]
    }
   ],
   "source": [
    "#purchasing Analysis\n",
    "#by Gender\n",
    "#Male\n",
    "male_df=p_data_df.loc[p_data_df[\"Gender\"]==\"Male\"]\n",
    "male_df.head()\n",
    "male_pc=male_df[\"Item Name\"].count()\n",
    "print(f\"male_pc:{male_pc}\")\n",
    "avg_pur_count_male=male_df[\"Price\"].mean()\n",
    "print(f\"avg_pur_count_male:{avg_pur_count_male}\")\n",
    "total_Pur_value=male_df[\"Price\"].sum()\n",
    "print(f\"total_Pur_value:{total_Pur_value}\")\n",
    "male_NP= np.std(avg_pur_count_male)\n",
    "print(f\"male_NP:{male_NP}\")\n",
    "\n"
   ]
  },
  {
   "cell_type": "code",
   "execution_count": 36,
   "metadata": {},
   "outputs": [
    {
     "name": "stdout",
     "output_type": "stream",
     "text": [
      "Female_pc:136\n",
      "avg_pur_count_Female:2.815514705882352\n",
      "total_Pur_value:382.90999999999985\n",
      "Female_NP:0.0\n"
     ]
    }
   ],
   "source": [
    "#purchasing Analysis\n",
    "#by Gender\n",
    "#Female\n",
    "Female_df=p_data_df.loc[p_data_df[\"Gender\"]==\"Female\"]\n",
    "Female_df.head()\n",
    "Female_pc=Female_df[\"Item Name\"].count()\n",
    "print(f\"Female_pc:{Female_pc}\")\n",
    "avg_pur_count_Female=Female_df[\"Price\"].mean()\n",
    "print(f\"avg_pur_count_Female:{avg_pur_count_Female}\")\n",
    "total_Pur_value=Female_df[\"Price\"].sum()\n",
    "print(f\"total_Pur_value:{total_Pur_value}\")\n",
    "Female_NP= np.std(avg_pur_count_Female)\n",
    "print(f\"Female_NP:{Female_NP}\")\n"
   ]
  },
  {
   "cell_type": "code",
   "execution_count": 37,
   "metadata": {},
   "outputs": [
    {
     "data": {
      "text/html": [
       "<div>\n",
       "<style>\n",
       "    .dataframe thead tr:only-child th {\n",
       "        text-align: right;\n",
       "    }\n",
       "\n",
       "    .dataframe thead th {\n",
       "        text-align: left;\n",
       "    }\n",
       "\n",
       "    .dataframe tbody tr th {\n",
       "        vertical-align: top;\n",
       "    }\n",
       "</style>\n",
       "<table border=\"1\" class=\"dataframe\">\n",
       "  <thead>\n",
       "    <tr style=\"text-align: right;\">\n",
       "      <th></th>\n",
       "      <th>SN</th>\n",
       "      <th>Purchase Count</th>\n",
       "      <th>Average Purchase Price</th>\n",
       "      <th>Total Purchase Value</th>\n",
       "    </tr>\n",
       "  </thead>\n",
       "  <tbody>\n",
       "    <tr>\n",
       "      <th>0</th>\n",
       "      <td>Undirrala66</td>\n",
       "      <td>5</td>\n",
       "      <td>3.412000</td>\n",
       "      <td>17.06</td>\n",
       "    </tr>\n",
       "    <tr>\n",
       "      <th>1</th>\n",
       "      <td>Saedue76</td>\n",
       "      <td>4</td>\n",
       "      <td>3.390000</td>\n",
       "      <td>13.56</td>\n",
       "    </tr>\n",
       "    <tr>\n",
       "      <th>2</th>\n",
       "      <td>Mindimnya67</td>\n",
       "      <td>4</td>\n",
       "      <td>3.185000</td>\n",
       "      <td>12.74</td>\n",
       "    </tr>\n",
       "    <tr>\n",
       "      <th>3</th>\n",
       "      <td>Haellysu29</td>\n",
       "      <td>3</td>\n",
       "      <td>4.243333</td>\n",
       "      <td>12.73</td>\n",
       "    </tr>\n",
       "    <tr>\n",
       "      <th>4</th>\n",
       "      <td>Eoda93</td>\n",
       "      <td>3</td>\n",
       "      <td>3.860000</td>\n",
       "      <td>11.58</td>\n",
       "    </tr>\n",
       "  </tbody>\n",
       "</table>\n",
       "</div>"
      ],
      "text/plain": [
       "            SN  Purchase Count  Average Purchase Price  Total Purchase Value\n",
       "0  Undirrala66               5                3.412000                 17.06\n",
       "1     Saedue76               4                3.390000                 13.56\n",
       "2  Mindimnya67               4                3.185000                 12.74\n",
       "3   Haellysu29               3                4.243333                 12.73\n",
       "4       Eoda93               3                3.860000                 11.58"
      ]
     },
     "execution_count": 37,
     "metadata": {},
     "output_type": "execute_result"
    }
   ],
   "source": [
    "#Top Spenders\n",
    "sn_price=p_data_df.groupby([\"SN\"])['Price'].sum()\n",
    "sn_pur=p_data_df.groupby([\"SN\"])['Price'].count()\n",
    "sn_users=p_data_df.groupby([\"SN\"])\n",
    "avg_sn= sn_price/sn_pur\n",
    "\n",
    "top_sn=pd.DataFrame({\"Purchase Count\": sn_pur, \"Average Purchase Price\":avg_sn, \"Total Purchase Value\":sn_price})\n",
    "top_sn= top_sn.sort_values(\"Total Purchase Value\", ascending=False)\n",
    "top_sn= top_sn[[\"Purchase Count\", \"Average Purchase Price\", \"Total Purchase Value\"]]\n",
    "\n",
    "top_sn.reset_index(inplace=True)\n",
    "top_sn.round(2)\n",
    "top_sn.head()\n"
   ]
  },
  {
   "cell_type": "code",
   "execution_count": 38,
   "metadata": {
    "collapsed": true
   },
   "outputs": [],
   "source": [
    "# Identify the 5 most popular items by purchase count, then list (in a table):\n",
    "# Item ID\n",
    "# Item Name\n",
    "# Purchase Count\n",
    "# Item Price\n",
    "# Total Purchase Value\n",
    "\n",
    "by_itemid = p_data_df.groupby('Item ID')\n",
    "pur_by_item = pd.DataFrame(by_itemid['Item ID'].count()) \n",
    "#counts occurance of item ID by grouping by item ID\n",
    "pur_by_item.rename(columns = {\"Item ID\": \"Number of Items Sold\"}, inplace = True)\n",
    "pur_by_item\n",
    "ttlpchsvlu = pd.DataFrame(by_itemid['Price'].sum()) \n"
   ]
  },
  {
   "cell_type": "code",
   "execution_count": 39,
   "metadata": {},
   "outputs": [
    {
     "data": {
      "text/html": [
       "<div>\n",
       "<style>\n",
       "    .dataframe thead tr:only-child th {\n",
       "        text-align: right;\n",
       "    }\n",
       "\n",
       "    .dataframe thead th {\n",
       "        text-align: left;\n",
       "    }\n",
       "\n",
       "    .dataframe tbody tr th {\n",
       "        vertical-align: top;\n",
       "    }\n",
       "</style>\n",
       "<table border=\"1\" class=\"dataframe\">\n",
       "  <thead>\n",
       "    <tr style=\"text-align: right;\">\n",
       "      <th></th>\n",
       "      <th>Item ID</th>\n",
       "      <th>Item Name</th>\n",
       "      <th>Price</th>\n",
       "      <th>Number of Items Sold</th>\n",
       "      <th>Revenue</th>\n",
       "    </tr>\n",
       "  </thead>\n",
       "  <tbody>\n",
       "    <tr>\n",
       "      <th>61</th>\n",
       "      <td>39</td>\n",
       "      <td>Betrayal, Whisper of Grieving Widows</td>\n",
       "      <td>2.35</td>\n",
       "      <td>11</td>\n",
       "      <td>25.85</td>\n",
       "    </tr>\n",
       "    <tr>\n",
       "      <th>116</th>\n",
       "      <td>84</td>\n",
       "      <td>Arcane Gem</td>\n",
       "      <td>2.23</td>\n",
       "      <td>11</td>\n",
       "      <td>24.53</td>\n",
       "    </tr>\n",
       "    <tr>\n",
       "      <th>81</th>\n",
       "      <td>175</td>\n",
       "      <td>Woeful Adamantite Claymore</td>\n",
       "      <td>1.24</td>\n",
       "      <td>9</td>\n",
       "      <td>11.16</td>\n",
       "    </tr>\n",
       "    <tr>\n",
       "      <th>35</th>\n",
       "      <td>13</td>\n",
       "      <td>Serenity</td>\n",
       "      <td>1.49</td>\n",
       "      <td>9</td>\n",
       "      <td>13.41</td>\n",
       "    </tr>\n",
       "    <tr>\n",
       "      <th>56</th>\n",
       "      <td>31</td>\n",
       "      <td>Trickster</td>\n",
       "      <td>2.07</td>\n",
       "      <td>9</td>\n",
       "      <td>18.63</td>\n",
       "    </tr>\n",
       "    <tr>\n",
       "      <th>57</th>\n",
       "      <td>34</td>\n",
       "      <td>Retribution Axe</td>\n",
       "      <td>4.14</td>\n",
       "      <td>9</td>\n",
       "      <td>37.26</td>\n",
       "    </tr>\n",
       "  </tbody>\n",
       "</table>\n",
       "</div>"
      ],
      "text/plain": [
       "     Item ID                             Item Name  Price  \\\n",
       "61        39  Betrayal, Whisper of Grieving Widows   2.35   \n",
       "116       84                            Arcane Gem   2.23   \n",
       "81       175            Woeful Adamantite Claymore   1.24   \n",
       "35        13                              Serenity   1.49   \n",
       "56        31                             Trickster   2.07   \n",
       "57        34                       Retribution Axe   4.14   \n",
       "\n",
       "     Number of Items Sold  Revenue  \n",
       "61                     11    25.85  \n",
       "116                    11    24.53  \n",
       "81                      9    11.16  \n",
       "35                      9    13.41  \n",
       "56                      9    18.63  \n",
       "57                      9    37.26  "
      ]
     },
     "execution_count": 39,
     "metadata": {},
     "output_type": "execute_result"
    }
   ],
   "source": [
    "# sums Price grouped by item ID\n",
    "ttlpchsvlu.rename(columns = {\"Price\": \"Revenue\"}, inplace =True)\n",
    "\n",
    "\n",
    "no_dup_items = p_data_df.drop_duplicates('Item ID')\n",
    "\n",
    "ttlpchsvlu\n",
    "top5_pop = no_dup_items.merge(pur_by_item, left_on = \"Item ID\", right_index = True)\n",
    "top5_pop = top5_pop.merge(ttlpchsvlu, left_on = \"Item ID\", right_index = True)\n",
    "top5_pop = top5_pop[['Item ID', \"Item Name\", \"Price\", \"Number of Items Sold\", \"Revenue\"]]\n",
    "top5_pop.sort_values(\"Number of Items Sold\", ascending = False, inplace = True)\n",
    "top5_pop = top5_pop.iloc[0:6][:] \n",
    "# Instead of top 5 did top six because 4 items had sales of 9 items each\n",
    "top5_pop\n"
   ]
  },
  {
   "cell_type": "code",
   "execution_count": 40,
   "metadata": {},
   "outputs": [
    {
     "data": {
      "text/html": [
       "<div>\n",
       "<style>\n",
       "    .dataframe thead tr:only-child th {\n",
       "        text-align: right;\n",
       "    }\n",
       "\n",
       "    .dataframe thead th {\n",
       "        text-align: left;\n",
       "    }\n",
       "\n",
       "    .dataframe tbody tr th {\n",
       "        vertical-align: top;\n",
       "    }\n",
       "</style>\n",
       "<table border=\"1\" class=\"dataframe\">\n",
       "  <thead>\n",
       "    <tr style=\"text-align: right;\">\n",
       "      <th></th>\n",
       "      <th>Item ID</th>\n",
       "      <th>Item Name</th>\n",
       "      <th>Number of Items Sold</th>\n",
       "      <th>Price</th>\n",
       "      <th>Revenue</th>\n",
       "    </tr>\n",
       "  </thead>\n",
       "  <tbody>\n",
       "    <tr>\n",
       "      <th>57</th>\n",
       "      <td>34</td>\n",
       "      <td>Retribution Axe</td>\n",
       "      <td>9</td>\n",
       "      <td>4.14</td>\n",
       "      <td>37.26</td>\n",
       "    </tr>\n",
       "    <tr>\n",
       "      <th>107</th>\n",
       "      <td>115</td>\n",
       "      <td>Spectral Diamond Doomblade</td>\n",
       "      <td>7</td>\n",
       "      <td>4.25</td>\n",
       "      <td>29.75</td>\n",
       "    </tr>\n",
       "    <tr>\n",
       "      <th>50</th>\n",
       "      <td>32</td>\n",
       "      <td>Orenmir</td>\n",
       "      <td>6</td>\n",
       "      <td>4.95</td>\n",
       "      <td>29.70</td>\n",
       "    </tr>\n",
       "    <tr>\n",
       "      <th>100</th>\n",
       "      <td>103</td>\n",
       "      <td>Singed Scalpel</td>\n",
       "      <td>6</td>\n",
       "      <td>4.87</td>\n",
       "      <td>29.22</td>\n",
       "    </tr>\n",
       "    <tr>\n",
       "      <th>164</th>\n",
       "      <td>107</td>\n",
       "      <td>Splitter, Foe Of Subtlety</td>\n",
       "      <td>8</td>\n",
       "      <td>3.61</td>\n",
       "      <td>28.88</td>\n",
       "    </tr>\n",
       "  </tbody>\n",
       "</table>\n",
       "</div>"
      ],
      "text/plain": [
       "     Item ID                   Item Name  Number of Items Sold  Price  Revenue\n",
       "57        34             Retribution Axe                     9   4.14    37.26\n",
       "107      115  Spectral Diamond Doomblade                     7   4.25    29.75\n",
       "50        32                     Orenmir                     6   4.95    29.70\n",
       "100      103              Singed Scalpel                     6   4.87    29.22\n",
       "164      107   Splitter, Foe Of Subtlety                     8   3.61    28.88"
      ]
     },
     "execution_count": 40,
     "metadata": {},
     "output_type": "execute_result"
    }
   ],
   "source": [
    "# Identify the 5 most profitable items by total purchase value, then list (in a table):\n",
    "# Item ID\n",
    "# Item Name\n",
    "# Purchase Count\n",
    "# Item Price\n",
    "# Total Purchase Value\n",
    "top5_prof = no_dup_items.merge(pur_by_item, left_on = \"Item ID\", right_index = True)\n",
    "top5_prof = top5_prof.merge(ttlpchsvlu, left_on = \"Item ID\", right_index = True)\n",
    "top5_prof = top5_prof[['Item ID', \"Item Name\", \"Number of Items Sold\", \"Price\", \"Revenue\"]]\n",
    "top5_prof.sort_values(\"Revenue\", ascending = False, inplace = True)\n",
    "top5_prof.head()\n"
   ]
  },
  {
   "cell_type": "code",
   "execution_count": null,
   "metadata": {
    "collapsed": true
   },
   "outputs": [],
   "source": []
  }
 ],
 "metadata": {
  "kernelspec": {
   "display_name": "Python 3",
   "language": "python",
   "name": "python3"
  },
  "language_info": {
   "codemirror_mode": {
    "name": "ipython",
    "version": 3
   },
   "file_extension": ".py",
   "mimetype": "text/x-python",
   "name": "python",
   "nbconvert_exporter": "python",
   "pygments_lexer": "ipython3",
   "version": "3.6.2"
  }
 },
 "nbformat": 4,
 "nbformat_minor": 2
}
